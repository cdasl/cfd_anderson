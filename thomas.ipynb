{
 "cells": [
  {
   "cell_type": "code",
   "execution_count": 148,
   "metadata": {},
   "outputs": [],
   "source": [
    "import numpy as np"
   ]
  },
  {
   "cell_type": "code",
   "execution_count": 149,
   "metadata": {},
   "outputs": [],
   "source": [
    "def tridiag(a, b, c, k1=-1, k2=0, k3=1):\n",
    "    return np.diag(a, k1) + np.diag(b, k2) + np.diag(c, k3)"
   ]
  },
  {
   "cell_type": "code",
   "execution_count": 150,
   "metadata": {},
   "outputs": [],
   "source": [
    "shape = 100\n",
    "b=np.random.rand(shape)\n",
    "a=np.random.rand(shape-1)\n",
    "c=np.random.rand(shape-1)"
   ]
  },
  {
   "cell_type": "code",
   "execution_count": 151,
   "metadata": {},
   "outputs": [
    {
     "data": {
      "text/plain": [
       "array([[0.07078166, 0.60336713, 0.        , ..., 0.        , 0.        ,\n",
       "        0.        ],\n",
       "       [0.70826494, 0.36261313, 0.27589778, ..., 0.        , 0.        ,\n",
       "        0.        ],\n",
       "       [0.        , 0.48476734, 0.41268611, ..., 0.        , 0.        ,\n",
       "        0.        ],\n",
       "       ...,\n",
       "       [0.        , 0.        , 0.        , ..., 0.86855991, 0.1355252 ,\n",
       "        0.        ],\n",
       "       [0.        , 0.        , 0.        , ..., 0.65136389, 0.66111924,\n",
       "        0.65034229],\n",
       "       [0.        , 0.        , 0.        , ..., 0.        , 0.76763435,\n",
       "        0.15977537]])"
      ]
     },
     "execution_count": 151,
     "metadata": {},
     "output_type": "execute_result"
    }
   ],
   "source": [
    "A = tridiag(a,b,c)\n",
    "A"
   ]
  },
  {
   "cell_type": "code",
   "execution_count": 152,
   "metadata": {},
   "outputs": [],
   "source": [
    "def thomas(A, d):\n",
    "    n = A.shape[0]\n",
    "    a = np.diag(A, k=-1) # a的下标[1,n)\n",
    "    a = np.insert(a, 0, 0)\n",
    "    b = np.diag(A, k=0)  # b的下标[0,n)\n",
    "    c = np.diag(A, k=1)  # c的下标[0,n-1)\n",
    "    c_prime = [0 for i in range(n-1)]\n",
    "    d_prime = [0 for i in range(n)]\n",
    "    for i in range(n-1):\n",
    "        if i == 0:\n",
    "            c_prime[i] = c[i]/b[i]\n",
    "        else:\n",
    "            c_prime[i] = c[i]/(b[i]-a[i]*c_prime[i-1])\n",
    "            \n",
    "    for i in range(n):\n",
    "        if i == 0:\n",
    "            d_prime[i] = d[i]/b[i]\n",
    "        else:\n",
    "            d_prime[i] = (d[i]-a[i]*d_prime[i-1])/(b[i]-a[i]*c_prime[i-1])\n",
    "\n",
    "    # print(c_prime, d_prime)\n",
    "    x = [0 for i in range(n)]\n",
    "    x[n-1] = d_prime[n-1]\n",
    "    for i in range(n-2, -1, -1):\n",
    "        x[i] = d_prime[i]-c_prime[i]*x[i+1]\n",
    "    return np.array(x)"
   ]
  },
  {
   "cell_type": "code",
   "execution_count": 153,
   "metadata": {},
   "outputs": [
    {
     "name": "stdout",
     "output_type": "stream",
     "text": [
      "1.9975029610893357e-13\n"
     ]
    }
   ],
   "source": [
    "d = [1 for i in range(shape)]\n",
    "x1 = np.array(thomas(A, d))\n",
    "x2 = np.linalg.solve(A, d)\n",
    "def rmse(predictions, targets):\n",
    "    return np.sqrt(((predictions - targets) ** 2).mean())\n",
    "print(rmse(x1, x2))\n"
   ]
  }
 ],
 "metadata": {
  "kernelspec": {
   "display_name": "torch",
   "language": "python",
   "name": "torch"
  },
  "orig_nbformat": 4
 },
 "nbformat": 4,
 "nbformat_minor": 2
}
